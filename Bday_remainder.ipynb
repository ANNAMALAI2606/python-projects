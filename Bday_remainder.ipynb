{
  "nbformat": 4,
  "nbformat_minor": 0,
  "metadata": {
    "colab": {
      "provenance": []
    },
    "kernelspec": {
      "name": "python3",
      "display_name": "Python 3"
    },
    "language_info": {
      "name": "python"
    }
  },
  "cells": [
    {
      "cell_type": "code",
      "source": [
        "import datetime\n",
        "current_date = datetime.date.today().strftime('%Y-%m-%d')\n",
        "current_date_lst = current_date.split('-')\n",
        "bday_log = [\n",
        "   ('Ayushi', ('1999', '10', '19')),\n",
        "   ('Yash', ('1999', '04', '21')),\n",
        "]\n",
        "add = input('To add birthday type y:').strip().lower()\n",
        "\n",
        "if add[:1] == 'y':\n",
        "   new = input('Add birthday in format yyyy-mm-dd:')\n",
        "   # print(new_lst)\n",
        "   name = input('Whose bday?')\n",
        "   date = new.split( '-' )\n",
        "   bday_log.append((name, tuple(date)))\n",
        "\n",
        "for birthday in bday_log:\n",
        "   # current_dat[1] == birthday[1][1] this will check if current month is same as birth month  and current date is same as\n",
        "   # birth date as per preadded log\n",
        "\n",
        "\n",
        "   if current_date_lst[1] == birthday[1][1] and current_date_lst[2] == birthday[1][2]:\n",
        "       age = int(current_date_lst[0]) - int(birthday[1][0])\n",
        "       ordinal_suffix = {1: 'st', 2: 'nd', 3: 'rd', 11: 'th', 12: 'th', 13: 'th'}.get(age % 10 if not 10 < age <= 13 else age % 14, 'th')\n",
        "       print(f\" It's {birthday[0]}'s {age}{ordinal_suffix} Birthday\")\n"
      ],
      "metadata": {
        "colab": {
          "base_uri": "https://localhost:8080/"
        },
        "id": "fxKUKe3yYZWU",
        "outputId": "4e4fff93-9dcb-43e4-db45-db385112c2b3"
      },
      "execution_count": 12,
      "outputs": [
        {
          "output_type": "stream",
          "name": "stdout",
          "text": [
            "To add birthday type y:y\n",
            "Add birthday in format yyyy-mm-dd:2002-08-18\n",
            "Whose bday?aunt\n",
            " It's aunt's 21st Birthday\n"
          ]
        }
      ]
    }
  ]
}